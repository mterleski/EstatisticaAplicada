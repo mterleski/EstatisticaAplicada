{
  "cells": [
    {
      "cell_type": "markdown",
      "metadata": {
        "id": "3Um_onCPZEf0"
      },
      "source": [
        "# **MÓDULO 19**\n",
        "# Exercício: Estatística Aplicada"
      ]
    },
    {
      "cell_type": "markdown",
      "metadata": {
        "id": "1m0YhZXwZL1q"
      },
      "source": [
        "**Efetividade de Duas Estratégias de Ensino**\n",
        "\n",
        "Imagine que uma escola esteja avaliando a eficácia de duas estratégias de ensino de matemática para alunos do ensino médio. Eles querem determinar se há uma diferença significativa no desempenho médio dos alunos entre as duas estratégias."
      ]
    },
    {
      "cell_type": "markdown",
      "metadata": {
        "id": "lYK3r7d8ZdUy"
      },
      "source": [
        "# **Hipóteses:**\n",
        "\n",
        "* Hipótese nula (H0): A média das notas dos alunos na estratégia A é igual à média das notas dos alunos na estratégia B.\n",
        "* Hipótese alternativa (H1): A média das notas na Estratégia B é maior do que a média das notas na Estratégia A."
      ]
    },
    {
      "cell_type": "markdown",
      "metadata": {
        "id": "aIXDvxeRZtuK"
      },
      "source": [
        "# **Dados:**\n",
        "\n",
        "* Amostra da Estratégia A: Notas de 50 alunos que receberam a Estratégia A.\n",
        "* Amostra da Estratégia B: Notas de 50 alunos que receberam a Estratégia B."
      ]
    },
    {
      "cell_type": "markdown",
      "metadata": {
        "id": "Awvgd4oAZ3Y7"
      },
      "source": [
        "Usaremos um teste Z para comparar as médias das notas entre as duas amostras."
      ]
    },
    {
      "cell_type": "markdown",
      "metadata": {
        "id": "qyJViOFDZ8Y_"
      },
      "source": [
        "Se o p-valor do teste Z for menor que um nível de significância pré-determinado (por exemplo, α = 0.05), rejeitamos a hipótese nula e concluímos que há uma diferença significativa nas médias das notas entre as duas estratégias de ensino."
      ]
    },
    {
      "cell_type": "code",
      "execution_count": 1,
      "metadata": {
        "id": "UW8wHoiGY9sb"
      },
      "outputs": [],
      "source": [
        "import numpy as np\n",
        "import matplotlib.pyplot as plt\n",
        "from scipy import stats"
      ]
    },
    {
      "cell_type": "markdown",
      "metadata": {
        "id": "D6tUtiABaDWI"
      },
      "source": [
        "Os dados são criados a seguir:"
      ]
    },
    {
      "cell_type": "code",
      "execution_count": 2,
      "metadata": {
        "id": "F9LLw8rsaFIS",
        "outputId": "2682e894-0c59-4df6-ba23-21ba2fb69cfe",
        "colab": {
          "base_uri": "https://localhost:8080/"
        }
      },
      "outputs": [
        {
          "output_type": "stream",
          "name": "stdout",
          "text": [
            "Notas da Estratégia A: [87.64052346 74.00157208 79.78737984 92.40893199 88.6755799 ]\n",
            "Notas da Estratégia B: [64.25440127 79.64282997 68.87033835 60.83241379 74.66181326]\n"
          ]
        }
      ],
      "source": [
        "# Definindo médias e desvios padrão para as notas nas duas estratégias\n",
        "media_estrategia_A = 70\n",
        "desvio_padrao_estrategia_A = 10\n",
        "\n",
        "media_estrategia_B = 75\n",
        "desvio_padrao_estrategia_B = 12\n",
        "\n",
        "# Gerando as amostras de notas para cada estratégia de ensino da nossa base\n",
        "np.random.seed(0)  # Para garantir a reprodutibilidade dos resultados\n",
        "amostra_estrategia_A = np.random.normal(loc=media_estrategia_A, scale=desvio_padrao_estrategia_A, size=50)\n",
        "amostra_estrategia_B = np.random.normal(loc=media_estrategia_B, scale=desvio_padrao_estrategia_B, size=50)\n",
        "\n",
        "print(\"Notas da Estratégia A:\", amostra_estrategia_A[:5])\n",
        "print(\"Notas da Estratégia B:\", amostra_estrategia_B[:5])"
      ]
    },
    {
      "cell_type": "markdown",
      "metadata": {
        "id": "KGpDI3hKaUN8"
      },
      "source": [
        "# 1) De acordo com as informações analisadas o nosso teste é unilateral á direita, esquerda ou bicaudal? Justifique.\n",
        "\n",
        "\n"
      ]
    },
    {
      "cell_type": "markdown",
      "source": [
        "A hipótese alternativa (H1) define que a média da Estratégia B é maior que a da Estratégia A. Isso significa que estamos interessados na região à direita da distribuição, onde os valores são maiores.\n",
        "\n",
        "Um teste unilateral à esquerda seria apropriado se a hipótese alternativa fosse: \"A média das notas na Estratégia B é menor do que a média das notas na Estratégia A\"."
      ],
      "metadata": {
        "id": "aguIwo7VAIel"
      }
    },
    {
      "cell_type": "markdown",
      "metadata": {
        "id": "xZ5V8EwfbZES"
      },
      "source": [
        "# 2) Calcule as médias para as duas amostragens e as variâncias. Quais insights você pode retirar comparando os dados?"
      ]
    },
    {
      "cell_type": "code",
      "execution_count": 3,
      "metadata": {
        "id": "vwCW7UXkbl-d",
        "colab": {
          "base_uri": "https://localhost:8080/"
        },
        "outputId": "d071af75-9bad-4d9c-9e14-084e045e5942"
      },
      "outputs": [
        {
          "output_type": "stream",
          "name": "stdout",
          "text": [
            "Média da amostra A: 71.40559272313098\n",
            "Variância da amostra A: 126.68018446943104\n",
            "Média da amostra B: 74.74868110507046\n",
            "Variância da amostra B: 108.26062024217782\n"
          ]
        }
      ],
      "source": [
        "media_amostra_a = np.mean(amostra_estrategia_A)\n",
        "variancia_amostra_a = np.var(amostra_estrategia_A)\n",
        "\n",
        "media_amostra_b = np.mean(amostra_estrategia_B)\n",
        "variancia_amostra_b = np.var(amostra_estrategia_B)\n",
        "\n",
        "print(\"Média da amostra A:\", media_amostra_a)\n",
        "print(\"Variância da amostra A:\", variancia_amostra_a)\n",
        "print(\"Média da amostra B:\", media_amostra_b)\n",
        "print(\"Variância da amostra B:\", variancia_amostra_b)"
      ]
    },
    {
      "cell_type": "markdown",
      "metadata": {
        "id": "8_skpl7RcAE5"
      },
      "source": [
        "# 3) Imprima os resultados da estatística do teste Z, p value e indique se rejeitaremos ou não a hipótese nula. Justifique sua resposta."
      ]
    },
    {
      "cell_type": "code",
      "execution_count": 4,
      "metadata": {
        "id": "n88wuGCjcNCq",
        "colab": {
          "base_uri": "https://localhost:8080/"
        },
        "outputId": "9d31f049-7256-4f4c-f9a7-34944a1f974e"
      },
      "outputs": [
        {
          "output_type": "stream",
          "name": "stdout",
          "text": [
            "Estatística Z: 1.542245935902539\n"
          ]
        }
      ],
      "source": [
        "z_stat = (media_amostra_b - media_amostra_a) / np.sqrt((variancia_amostra_b / len(amostra_estrategia_B)) + (variancia_amostra_a / len(amostra_estrategia_A)))\n",
        "print(\"Estatística Z:\", z_stat)"
      ]
    },
    {
      "cell_type": "code",
      "source": [
        "p_value = 2 * (1 - stats.norm.cdf(abs(z_stat)))\n",
        "\n",
        "print(\"p-value do grupo A:\", p_value)\n",
        "\n",
        "alpha = 0.05\n",
        "if p_value < alpha:\n",
        "    print(\"Rejeitamos a hipótese nula. Há uma diferença significativa entre as médias das notas dos alunos nas duas estratégias.\")\n",
        "else:\n",
        "    print(\"Não rejeitamos a hipótese nula. Não há evidência suficiente para concluir que as médias das notas dos alunos nas duas estratégias são diferentes.\")"
      ],
      "metadata": {
        "colab": {
          "base_uri": "https://localhost:8080/"
        },
        "id": "clYf7lE60NUI",
        "outputId": "ff3e108f-b2a3-481a-de87-8f8677cf4cf0"
      },
      "execution_count": 5,
      "outputs": [
        {
          "output_type": "stream",
          "name": "stdout",
          "text": [
            "p-value do grupo A: 0.12301384127809167\n",
            "Não rejeitamos a hipótese nula. Não há evidência suficiente para concluir que as médias das notas dos alunos nas duas estratégias são diferentes.\n"
          ]
        }
      ]
    },
    {
      "cell_type": "markdown",
      "metadata": {
        "id": "IDR8T-bQc3i2"
      },
      "source": [
        "# 4) Para finalizar monte o gráfico da distribuição da estatística do nosso teste Z e explique o que pode ser observado através dele."
      ]
    },
    {
      "cell_type": "code",
      "execution_count": 10,
      "metadata": {
        "id": "My8VY4QmdEWc",
        "colab": {
          "base_uri": "https://localhost:8080/",
          "height": 565
        },
        "outputId": "51123b10-0f48-4add-d23d-dc89d06c95b8"
      },
      "outputs": [
        {
          "output_type": "display_data",
          "data": {
            "text/plain": [
              "<Figure size 800x600 with 1 Axes>"
            ],
            "image/png": "[encoded data removed]"
          },
          "metadata": {}
        }
      ],
      "source": [
        "# Parâmetros do teste Z\n",
        "media = 0  # Média da distribuição normal padrão (Z)\n",
        "desvio_padrao = 1  # Desvio padrão da distribuição normal padrão (Z)\n",
        "nivel_de_significancia = 0.05  # Nível de significância (alfa)\n",
        "\n",
        "# Calcular os valores críticos para um teste unilateral a direita\n",
        "valor_critico = stats.norm.ppf(1 - nivel_de_significancia / 2, loc=media, scale=desvio_padrao)\n",
        "\n",
        "# Gerar valores para o eixo x\n",
        "x = np.linspace(media - 4 * desvio_padrao, media + 4 * desvio_padrao, 1000)\n",
        "\n",
        "# Calcular os valores da função de densidade de probabilidade (PDF)\n",
        "pdf = stats.norm.pdf(x, loc=media, scale=desvio_padrao)\n",
        "\n",
        "# Criar o gráfico\n",
        "plt.figure(figsize=(8, 6))\n",
        "plt.plot(x, pdf, color='black')  # Curva da distribuição normal padrão\n",
        "\n",
        "# Preencher a região crítica\n",
        "plt.fill_between(x, pdf, where= (x > valor_critico), color='red', alpha=0.5)\n",
        "\n",
        "# Adicionar linhas verticais para os valores críticos\n",
        "plt.axvline(x=valor_critico, color='red', linestyle='--')\n",
        "plt.axvline(x=z_stat, color='blue', linestyle='--', label='p-valor')\n",
        "\n",
        "# Configurar o gráfico\n",
        "plt.title('Gráfico do Teste Z com Região Crítica')\n",
        "plt.xlabel('Valor Z')\n",
        "plt.ylabel('Densidade de Probabilidade')\n",
        "plt.grid(True)\n",
        "\n",
        "# Exibir o gráfico\n",
        "plt.show()"
      ]
    },
    {
      "cell_type": "markdown",
      "source": [
        "Note que nosso teste não nos permitiu rejeitar a hipótese nula, pois o p-value era superior ao nível de significância. Deste modo, temos que o valor do teste Z é externo a zona crítica do gráfico da função de probabilidade, o que ilustra o fato de não termos evidências o suficiente para rejeitar a hipótese nula."
      ],
      "metadata": {
        "id": "MXZHaHOKFJcX"
      }
    }
  ],
  "metadata": {
    "colab": {
      "provenance": []
    },
    "kernelspec": {
      "display_name": "Python 3 (ipykernel)",
      "language": "python",
      "name": "python3"
    },
    "language_info": {
      "codemirror_mode": {
        "name": "ipython",
        "version": 3
      },
      "file_extension": ".py",
      "mimetype": "text/x-python",
      "name": "python",
      "nbconvert_exporter": "python",
      "pygments_lexer": "ipython3",
      "version": "3.11.7"
    }
  },
  "nbformat": 4,
  "nbformat_minor": 0
}